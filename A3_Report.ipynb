{
 "cells": [
  {
   "cell_type": "markdown",
   "metadata": {},
   "source": [
    "# Assignment 3: Pitch and Plan for Solving a Domain Problem"
   ]
  },
  {
   "cell_type": "markdown",
   "metadata": {},
   "source": [
    "Link to this notebook on github:\n",
    "\n",
    "[https://github.com/pitwegner/UTS_ML2019_ID13691340/blob/master/A3_Report.ipynb](https://github.com/pitwegner/UTS_ML2019_ID13691340/blob/master/A3_Report.ipynb)"
   ]
  },
  {
   "cell_type": "markdown",
   "metadata": {},
   "source": [
    "# Nursing Activity Recognition for Documentation Support"
   ]
  },
  {
   "cell_type": "markdown",
   "metadata": {},
   "source": [
    "## Objectives"
   ]
  },
  {
   "cell_type": "markdown",
   "metadata": {},
   "source": [
    "The main goal of the project is the recognition of nursing activities based on worn acceleration sensors, in order to ease medical documentation. The main goal can be divided into smaller objectives as follows:\n",
    "1. Initial Data Source Discovery\n",
    "2. Development and Evaluation of Existing and New Classifiers\n",
    "3. Ethical and Legal Approval\n",
    "4. Model Applicability in Real World Setting\n",
    "5. Efficient User Interface\n",
    "6. Deployment & Market Entry"
   ]
  },
  {
   "cell_type": "markdown",
   "metadata": {},
   "source": [
    "## Background"
   ]
  },
  {
   "cell_type": "markdown",
   "metadata": {},
   "source": [
    "Although activity recognition has been studied for a long time now, research and applications have been mainly focused on physical activity recognition. Many commercial products can now recognize when we walk, cycle or run, count steps and give a general overview of how active we have been on a day. However, research in applications to domains like healthcare, although advertised and highly regarded as important, is not very mature. One reason is that the activities are more complex and hard to analyze. Even if many application domains require the recognition of more complex activities, for example daily living activities or work-related activities, research on such activities has attracted less attention. Complex activity recognition in health care applications has been focusing on recognition of patient activities and overlooked nurses and caregivers.\n",
    "\n",
    "Nursing activity recognition is challenging because, unlike other activity settings in which the user is doing an activity, nurses usually perform some activity to a patient. For example, they give a drink to the patient instead of just drinking. This property introduces challenges that are not studied in other activity recognition applications. For example, the activities can be performed differently by the same nurse depending on the patient receiving the care. In this case, intra-class variability depends not only on the subject, as in other domains, but also on the receiving patient.\n",
    "\n",
    "Human Activity Recognition has been tackled using many different methods, including simple statistical analyses, various shallow methods, such as for example Hidden Markov Models, Support Vector Machines and Naïve Bayes, and deep learning techniques, such as CNN, RNN and temporal CNN. The data used is usually captured from acceleration sensors or Optical Motion Capture Cameras, while the X, Y and Z components are generally considered as multiple input channels. Data pre-processing often involves manual feature extraction relating to statistical time and frequency measures and application-based features. All approaches have in common that they use a fixed window size for activity segmentation, although activity lengths differ wildly depending on type and subject. The proposed approach uses the complete inferred positional data of one activity (from numerical integration or a machine learning model), mapped in real space, as an input to a CNN. This way, the structural recognition capabilities of CNN can be applied to the entire activity."
   ]
  },
  {
   "cell_type": "markdown",
   "metadata": {},
   "source": [
    "## Research Project"
   ]
  },
  {
   "cell_type": "markdown",
   "metadata": {},
   "source": [
    "The nursing domain is one of the domains that can benefit enormously from activity recognition but has not been researched due to lack of datasets and complexity. Recognition of nurse activities can have many applications like automatic record creation to reduce documentation time, checking compliance with care routines for a given patient and identification of risk activities that require special preparations and follow ups, for example hand washing after taking blood samples. All of these applications in the end increase patient safety.\n",
    "\n",
    "Commercial application of activity recognition in hospitals has the additional barrier of privacy concerns. The benefit of the approach to use acceleration data only, as opposed to motion capture or cameras, is inherent data protection. Extracting personal information from such data is not trivially done, yet the motion patterns important for activity recognition are preserved.\n",
    "\n",
    "The necessary tasks and their timeline are outlined in the chart below.\n",
    "\n",
    "\n",
    "The real world data collection for model testing needs to be minimally invasive for the daily work of the nurses. The positioning of acceleration sensors has to be confirmed with the nurses to not inhibit their work, but still be effective. Furthermore, data labels have to be collected reliably, yet without much time overhead. Thus, a device similar to an n-sided die with an internal acceleration sensor could be designed that has the different activity labels as sides. The nurse would, each time a new activity is started, activate the die and put set with the corresponding side up on a flat surface. The data recording can be done by a crude smartphone app, connecting to the sensors via bluetooth.\n",
    "  \n",
    "The outcome of the project will be a cross-platform software that can be utilized to pre-fill nurse-specific activity reports from analyzing data from body-worn IMU sensors, based on pre-defined and pre-trained activities. This will majorly increase report completeness and quality, as well as reduce the amount of time required to create such a report. Due to the portability of the sensors, the software can be deployed in various areas, such as nursing homes, hospitals, and even home care. For premium customers, a new model could be trained on own data and activities additional to the common dataset, in order to include different activities. If the prediciton model fails, the labelling die by itself could already be a great relief in semi-automating the documentation. Considering the market size, investing in the project in exchange for company shares poses a great return on investment."
   ]
  },
  {
   "cell_type": "markdown",
   "metadata": {},
   "source": [
    "## Budget"
   ]
  },
  {
   "cell_type": "markdown",
   "metadata": {},
   "source": [
    "Overall, the project is estimated to cost about 500,000 AUD. This accounts majorly for wages and infrastructure.\n",
    "\n",
    "| Position           | # | Price  | Sum     |\n",
    "|--------------------|---|--------|---------|\n",
    "| Salary             | 5 | 88,000 | 440,000 |\n",
    "| Office Rental      | 1 | 20,000 |  20,000 |\n",
    "| PCs + Peripherals  | 5 |   1500 |    7500 |\n",
    "| GPU Infrastructure | 1 |   1500 |    1500 |\n",
    "| Sensor Hardware    | 1 |   4000 |    4000 |\n",
    "| DevOps             | 1 |   1000 |    1000 |\n",
    "| Office Equipment   | 1 |   1000 |    1000 |\n",
    "| &#xfeff;  | &#xfeff; | &#xfeff; | 475,000 |"
   ]
  },
  {
   "cell_type": "markdown",
   "metadata": {},
   "source": [
    "## Personnel"
   ]
  },
  {
   "cell_type": "markdown",
   "metadata": {},
   "source": [
    "The minimim personnel required to successfully complete the project include a data scientist, a full stack developer and an advisor for ethical and legal requirements. In order to ensure timely delivery and a product of high quality, both the data scientist and the full stack developer should be supported by another one each, totalling 4 developers. The data scientists are responsible for analyzing the data, determining which machine learning approach to use and then model the algorithm, before prototyping it for testing. The two full stack developers will develop the software solution that integrates the machine learning model into a usable application, providing mobile and web interfaces, as well as device communication and data flow schemes. It helps, if any one of the four computer scientists has experience with machine learning engineering, supporting an efficient and scalable algorithm implementation. The ethical and legal position ensures that the application does not interfere with medical device regulations and act as a contact for data privacy related questions. If the goal of the project is to found a new company, one employee each for accounting, marketing and back office should be employed, in order to keep the management duties from distracting the developer team."
   ]
  },
  {
   "cell_type": "markdown",
   "metadata": {},
   "source": [
    "## References"
   ]
  },
  {
   "cell_type": "markdown",
   "metadata": {},
   "source": [
    "\\setlength{\\parindent}{0pt}\n",
    "\n",
    "[HOC97][0]: Hochreiter, S., Schmidhuber, J. 'Long Short-Term Memory', Technische Universität München.\n",
    "\\hfill\\break\n",
    "\n",
    "[0]:https://www.bioinf.jku.at/publications/older/2604.pdf"
   ]
  },
  {
   "cell_type": "markdown",
   "metadata": {},
   "source": [
    "## Video Pitch"
   ]
  },
  {
   "cell_type": "markdown",
   "metadata": {},
   "source": []
  },
  {
   "cell_type": "code",
   "execution_count": null,
   "metadata": {},
   "outputs": [],
   "source": []
  }
 ],
 "metadata": {
  "kernelspec": {
   "display_name": "Python 3",
   "language": "python",
   "name": "python3"
  },
  "language_info": {
   "codemirror_mode": {
    "name": "ipython",
    "version": 3
   },
   "file_extension": ".py",
   "mimetype": "text/x-python",
   "name": "python",
   "nbconvert_exporter": "python",
   "pygments_lexer": "ipython3",
   "version": "3.7.3"
  },
  "toc": {
   "base_numbering": 1,
   "nav_menu": {},
   "number_sections": true,
   "sideBar": true,
   "skip_h1_title": false,
   "title_cell": "Table of Contents",
   "title_sidebar": "Contents",
   "toc_cell": false,
   "toc_position": {},
   "toc_section_display": true,
   "toc_window_display": false
  }
 },
 "nbformat": 4,
 "nbformat_minor": 2
}
