{
 "cells": [
  {
   "cell_type": "markdown",
   "metadata": {},
   "source": [
    "# Assignment 3: Pitch and Plan for Solving a Domain Problem"
   ]
  },
  {
   "cell_type": "markdown",
   "metadata": {},
   "source": [
    "Link to this notebook on github:\n",
    "\n",
    "[https://github.com/pitwegner/UTS_ML2019_ID13691340/blob/master/A3_Report.ipynb](https://github.com/pitwegner/UTS_ML2019_ID13691340/blob/master/A3_Report.ipynb)"
   ]
  },
  {
   "cell_type": "markdown",
   "metadata": {},
   "source": [
    "# Nursing Activity Recognition for Documentation Support"
   ]
  },
  {
   "cell_type": "markdown",
   "metadata": {},
   "source": [
    "## Objective"
   ]
  },
  {
   "cell_type": "markdown",
   "metadata": {},
   "source": [
    "The main goal of the project is the recognition of nursing activities based on worn acceleration sensors, in order to ease medical documentation. The main goal can be divided into smaller objectives as follows:\n",
    "1. Initial data source discovery\n",
    "2. Development and evaluation of existing and new classifiers\n",
    "3. Gain ethics approval\n",
    "4. Test model applicability in real world setting\n",
    "5. User interface development\n",
    "6. Deployment & market entry"
   ]
  },
  {
   "cell_type": "markdown",
   "metadata": {},
   "source": [
    "## Background"
   ]
  },
  {
   "cell_type": "markdown",
   "metadata": {},
   "source": [
    "Although activity recognition has been studied for a long time now, research and applications have been mainly focused on physical activity recognition. Many commercial products can now recognize when we walk, cycle or run, count steps and give a general overview of how active we have been on a day. However, research in applications to domains like healthcare, although advertised and highly regarded as important, is not very mature. One reason is that the activities are more complex and hard to analyze. Even if many application domains require the recognition of more complex activities, for example daily living activities or work-related activities, research on such activities has attracted less attention. Complex activity recognition in health care applications has been focusing on recognition of patient activities and overlooked nurses and caregivers.\n",
    "\n",
    "Nursing activity recognition is challenging because, unlike other activity settings in which the user is doing an activity, nurses usually perform some activity to a patient. For example, they give a drink to the patient instead of just drinking. This property introduces challenges that are not studied in other activity recognition applications. For example, the activities can be performed differently by the same nurse depending on the patient receiving the care. In this case, intra-class variability depends not only on the subject, as in other domains, but also on the receiving patient.\n",
    "\n",
    "Human Activity Recognition has been tackled using many different methods, including simple statistical analyses, various shallow methods, such as for example Hidden Markov Models, Support Vector Machines and Naïve Bayes, and deep learning techniques, such as CNN, RNN and temporal CNN. The data used is usually captured from acceleration sensors or Optical Motion Capture Cameras, while the X, Y and Z components are generally considered as multiple input channels. Data pre-processing often involves manual feature extraction relating to statistical time and frequency measures and application-based features. All approaches have in common that they use a fixed window size for activity segmentation, although activity lengths differ wildly depending on type and subject. The proposed approach uses the complete inferred positional data of one activity (from numerical integration or a machine learning model), mapped in real space, as an input to a CNN. This way, the structural recognition capabilities of CNN can be applied to the entire activity."
   ]
  },
  {
   "cell_type": "markdown",
   "metadata": {},
   "source": [
    "## Research Project"
   ]
  },
  {
   "cell_type": "markdown",
   "metadata": {},
   "source": [
    "The nursing domain is one of the domains that can benefit enormously from activity recognition but has not been researched due to lack of datasets and complexity. Recognition of nurse activities can have many applications like automatic record creation to reduce documentation time, checking compliance with care routines for a given patient and identification of risk activities that require special preparations and follow ups, for example hand washing after taking blood samples.\n",
    "\n",
    "The project will consist of the following tasks:\n",
    "  - Research about nature of nursing activities\n",
    "  - Performance of current menthods (including possible reasons for failure)\n",
    "  - Look for openly available datasets to experiment develop model\n",
    "  - Apply for Ethics Approval\n",
    "  - Try to optimize the performance of a classifier based on different pre-processing pipelines and machine learning models & architectures\n",
    "  - Collect own data for five different activities from the nursing activity field and see how the suggested model performs on new data\n",
    "  - Gather real data from nurses with little disturbance (n-sided cube for labelling)\n",
    "  - Build a documentation application for nurses where sensors can be connected and the incoming data is classified in real-time into the predefined nursing activities\n",
    "  \n",
    "The outcome of the project will be a cross-platform software that can be utilized to pre-fill nurse-specific activity reports from analyzing data from body-worn IMU sensors, based on pre-defined and pre-trained activities. This will majorly increase report completeness and quality, as well as reduce the amount of time required to create such a report. Due to the portability of the sensors , the software can be deployed in various areas, such as nursing homes, hospitals, and even home care. For premium customers, a new model could be trained on own data and activities additional to the common dataset, in order to include different activities. Considering the market size, investing in the project in exchange for company shares poses a great return on investment."
   ]
  },
  {
   "cell_type": "markdown",
   "metadata": {},
   "source": [
    "## Budget"
   ]
  },
  {
   "cell_type": "markdown",
   "metadata": {},
   "source": [
    "* office - 1000€/month = 12000€\n",
    "* cleaning - 300€/month = 3600€\n",
    "* office materials - 440€\n",
    "* technical equipment - 5000€\n",
    "* one-time office equipment - 1000€\n",
    "* Infrastructure (appstore, servers) - 30/month = 360€\n",
    "------------------\n",
    "450000€"
   ]
  },
  {
   "cell_type": "markdown",
   "metadata": {},
   "source": [
    "## Personnel"
   ]
  },
  {
   "cell_type": "markdown",
   "metadata": {},
   "source": [
    "* 2 Data scientists - 2x30€/hx40h/wx52w/y = 124800€\n",
    "* 2 Full stack developers (Frontend/backend, later part of the project) = 124800€\n",
    "* 1 Office staff & correspondence = 28000€\n",
    "* 1 legal associate (health regulations, contracts) = 55000€\n",
    "* 1 financial position (taxes, bills, wages) = 45000€\n",
    "* 1 marketing position (economics) = 50000€\n",
    "--------------------\n",
    "8 people = 427600"
   ]
  },
  {
   "cell_type": "markdown",
   "metadata": {},
   "source": [
    "## References"
   ]
  },
  {
   "cell_type": "markdown",
   "metadata": {},
   "source": [
    "\\setlength{\\parindent}{0pt}\n",
    "\n",
    "[HOC97][0]: Hochreiter, S., Schmidhuber, J. 'Long Short-Term Memory', Technische Universität München.\n",
    "\\hfill\\break\n",
    "\n",
    "[0]:https://www.bioinf.jku.at/publications/older/2604.pdf"
   ]
  },
  {
   "cell_type": "markdown",
   "metadata": {},
   "source": [
    "## Video Pitch"
   ]
  },
  {
   "cell_type": "markdown",
   "metadata": {},
   "source": []
  },
  {
   "cell_type": "code",
   "execution_count": null,
   "metadata": {},
   "outputs": [],
   "source": []
  }
 ],
 "metadata": {
  "kernelspec": {
   "display_name": "Python 3",
   "language": "python",
   "name": "python3"
  },
  "language_info": {
   "codemirror_mode": {
    "name": "ipython",
    "version": 3
   },
   "file_extension": ".py",
   "mimetype": "text/x-python",
   "name": "python",
   "nbconvert_exporter": "python",
   "pygments_lexer": "ipython3",
   "version": "3.7.3"
  },
  "toc": {
   "base_numbering": 1,
   "nav_menu": {},
   "number_sections": true,
   "sideBar": true,
   "skip_h1_title": false,
   "title_cell": "Table of Contents",
   "title_sidebar": "Contents",
   "toc_cell": false,
   "toc_position": {},
   "toc_section_display": true,
   "toc_window_display": false
  }
 },
 "nbformat": 4,
 "nbformat_minor": 2
}
